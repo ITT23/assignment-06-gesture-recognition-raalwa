{
 "cells": [
  {
   "cell_type": "code",
   "execution_count": 1,
   "id": "72656cae-6f7f-4594-b5ff-654d53b08ab8",
   "metadata": {
    "tags": []
   },
   "outputs": [],
   "source": [
    "from matplotlib import pyplot as plt\n",
    "import numpy as np\n",
    "import os\n",
    "import random\n",
    "from time import process_time\n",
    "\n",
    "os.environ['TF_CPP_MIN_LOG_LEVEL'] = '2'\n",
    "\n",
    "# import a lot of things from keras:\n",
    "# sequential model\n",
    "from keras.models import Sequential\n",
    "\n",
    "# layers\n",
    "from keras.layers import Input, Dense, LSTM\n",
    "\n",
    "# loss function\n",
    "from keras.metrics import categorical_crossentropy\n",
    "\n",
    "# callback functions\n",
    "from keras.callbacks import ReduceLROnPlateau, EarlyStopping\n",
    "\n",
    "# convert data to categorial vector representation\n",
    "from keras.utils import to_categorical\n",
    "\n",
    "# nice progress bar for loading data\n",
    "from tqdm.notebook import tqdm\n",
    "\n",
    "# helper function for train/test split\n",
    "from sklearn.model_selection import train_test_split\n",
    "\n",
    "# import confusion matrix helper function\n",
    "from sklearn.metrics import confusion_matrix, ConfusionMatrixDisplay\n",
    "\n",
    "# resample signal to n samples\n",
    "from scipy.signal import resample\n",
    "\n",
    "# XML parser\n",
    "import xml.etree.ElementTree as ET\n",
    "\n",
    "# encoding and normalizing data\n",
    "from sklearn.preprocessing import LabelEncoder, StandardScaler\n",
    "\n",
    "NUM_POINTS = 50"
   ]
  },
  {
   "cell_type": "code",
   "execution_count": 2,
   "id": "97630d97-e864-4b48-b8f7-4cfdead22ea2",
   "metadata": {
    "tags": []
   },
   "outputs": [],
   "source": [
    "data = []\n",
    "\n",
    "for root, subdirs, files in os.walk('../dataset/training_set'):\n",
    "    if 'ipynb_checkpoint' in root:\n",
    "        continue\n",
    "    \n",
    "    if len(files) > 0:\n",
    "        for f in files:\n",
    "            if '.xml' in f:\n",
    "                fname = f.split('.')[0]\n",
    "                label = fname[:-2]\n",
    "                \n",
    "                xml_root = ET.parse(f'{root}/{f}').getroot()\n",
    "                \n",
    "                points = []\n",
    "                for element in xml_root.findall('Point'):\n",
    "                    x = element.get('X')\n",
    "                    y = element.get('Y')\n",
    "                    points.append([x, y])\n",
    "                    \n",
    "                points = np.array(points, dtype=float)\n",
    "                \n",
    "                scaler = StandardScaler()\n",
    "                points = scaler.fit_transform(points)\n",
    "                \n",
    "                resampled = resample(points, NUM_POINTS)\n",
    "                \n",
    "                data.append((label, resampled))"
   ]
  },
  {
   "cell_type": "code",
   "execution_count": 3,
   "id": "87050294-30b5-48a8-b89c-993d4a69bf57",
   "metadata": {
    "tags": []
   },
   "outputs": [
    {
     "name": "stdout",
     "output_type": "stream",
     "text": [
      "('arrow', array([[-1.98115675,  1.98053787],\n",
      "       [-2.06546475,  1.99436522],\n",
      "       [-1.93086964,  1.8442288 ],\n",
      "       [-1.90192736,  1.76971743],\n",
      "       [-1.78875077,  1.71317545],\n",
      "       [-1.71781591,  1.57516255],\n",
      "       [-1.57514812,  1.43563976],\n",
      "       [-1.58042064,  1.39580667],\n",
      "       [-1.34995696,  1.18830922],\n",
      "       [-1.19546419,  0.99642441],\n",
      "       [-0.960359  ,  0.83813815],\n",
      "       [-0.78288021,  0.61858763],\n",
      "       [-0.52384061,  0.46002859],\n",
      "       [-0.32284315,  0.28639652],\n",
      "       [-0.08225056,  0.0972638 ],\n",
      "       [ 0.13539409, -0.04098562],\n",
      "       [ 0.28665714, -0.18479149],\n",
      "       [ 0.38552463, -0.22181367],\n",
      "       [ 0.54906291, -0.37553448],\n",
      "       [ 0.62910992, -0.43764128],\n",
      "       [ 0.77023395, -0.53465178],\n",
      "       [ 0.81775568, -0.56226704],\n",
      "       [ 0.89772108, -0.61428591],\n",
      "       [ 0.7960657 , -0.65419655],\n",
      "       [ 0.7157478 , -0.69746153],\n",
      "       [ 0.5429837 , -0.65135589],\n",
      "       [ 0.34374538, -0.64974188],\n",
      "       [ 0.22664267, -0.6529458 ],\n",
      "       [ 0.1695624 , -0.68656232],\n",
      "       [ 0.06726312, -0.70876126],\n",
      "       [-0.07539733, -0.64993379],\n",
      "       [-0.16244943, -0.65946755],\n",
      "       [-0.1240699 , -0.63542763],\n",
      "       [-0.00553072, -0.7207527 ],\n",
      "       [ 0.25221951, -0.76032034],\n",
      "       [ 0.4767568 , -0.88821401],\n",
      "       [ 0.80876396, -1.06770607],\n",
      "       [ 1.08771246, -1.27426772],\n",
      "       [ 1.26157767, -1.42231195],\n",
      "       [ 1.35308313, -1.4339548 ],\n",
      "       [ 1.50123792, -1.46322346],\n",
      "       [ 1.38669258, -1.30482476],\n",
      "       [ 1.25696677, -1.0302135 ],\n",
      "       [ 0.89131517, -0.48480841],\n",
      "       [ 0.74103916, -0.06279248],\n",
      "       [ 0.54607789,  0.26410567],\n",
      "       [ 0.57042035,  0.36857649],\n",
      "       [ 0.29356897,  0.82731163],\n",
      "       [ 0.26684363,  0.90906049],\n",
      "       [ 0.09884985,  0.96837933]]))\n"
     ]
    }
   ],
   "source": [
    "print(data[0])"
   ]
  },
  {
   "cell_type": "code",
   "execution_count": 4,
   "id": "2bc59f40-f122-47ae-bcb3-6fece5d9310e",
   "metadata": {
    "tags": []
   },
   "outputs": [
    {
     "name": "stdout",
     "output_type": "stream",
     "text": [
      "{'x', 'question_mark', 'triangle', 'left_curly_brace', 'caret', 'arrow', 'rectangle', 'right_curly_brace', 'delete_mark', 'left_sq_bracket', 'star', 'pigtail', 'right_sq_bracket', 'v', 'circle', 'check'}\n",
      "{0, 1, 2, 3, 4, 5, 6, 7, 8, 9, 10, 11, 12, 13, 14, 15}\n",
      "16\n",
      "(4096, 50, 2) (1024, 50, 2) (4096, 16) (1024, 16)\n"
     ]
    }
   ],
   "source": [
    "# Prepare the data\n",
    "labels = [sample[0] for sample in data]\n",
    "\n",
    "print(set(labels))\n",
    "\n",
    "encoder = LabelEncoder()\n",
    "labels_encoded = encoder.fit_transform(labels)\n",
    "\n",
    "print(set(labels_encoded))\n",
    "\n",
    "y = to_categorical(labels_encoded)\n",
    "\n",
    "print(len(y[0]))\n",
    "\n",
    "sequences = [sample[1] for sample in data]\n",
    "X = np.array(sequences)\n",
    "\n",
    "X_train, X_test, y_train, y_test = train_test_split(X, y, test_size=0.2, random_state=42)\n",
    "\n",
    "print(X_train.shape, X_test.shape, y_train.shape, y_test.shape)"
   ]
  },
  {
   "cell_type": "code",
   "execution_count": 5,
   "id": "a4241cf5-eb14-4792-9369-39c043846b04",
   "metadata": {
    "tags": []
   },
   "outputs": [],
   "source": [
    "# Define the model\n",
    "model = Sequential()\n",
    "\n",
    "# add LSTM layer\n",
    "# input shape is (length of an individual sample, dimensions of the sample)\n",
    "# in our case: two dimensions, as we have X and Y coordinates\n",
    "model.add(LSTM(8, input_shape=(NUM_POINTS, 2)))\n",
    "\n",
    "# add dense layer to do machine learning magic\n",
    "model.add(Dense(8, activation='relu'))\n",
    "\n",
    "# here, you can add more layers and maybe a dropout for better performance\n",
    "\n",
    "# softmax layer for classification\n",
    "model.add(Dense(len(set(labels)), activation='softmax'))\n",
    "\n",
    "# Compile the model\n",
    "model.compile(loss='categorical_crossentropy', optimizer='adam', metrics=['accuracy'])\n",
    "\n",
    "reduce_lr = ReduceLROnPlateau(monitor='val_loss', factor=0.2, patience=2, min_lr=0.0001)\n",
    "stop_early = EarlyStopping(monitor='val_loss', patience=3)"
   ]
  },
  {
   "cell_type": "code",
   "execution_count": 6,
   "id": "3c5a0893-22c4-4a0b-aeb0-974716909cb0",
   "metadata": {
    "tags": []
   },
   "outputs": [
    {
     "name": "stdout",
     "output_type": "stream",
     "text": [
      "Epoch 1/50\n",
      "128/128 [==============================] - 3s 12ms/step - loss: 2.6148 - accuracy: 0.2703 - val_loss: 2.4035 - val_accuracy: 0.3701 - lr: 0.0010\n",
      "Epoch 2/50\n",
      "128/128 [==============================] - 1s 8ms/step - loss: 2.1647 - accuracy: 0.3821 - val_loss: 1.8706 - val_accuracy: 0.4600 - lr: 0.0010\n",
      "Epoch 3/50\n",
      "128/128 [==============================] - 1s 8ms/step - loss: 1.7002 - accuracy: 0.4612 - val_loss: 1.4996 - val_accuracy: 0.4814 - lr: 0.0010\n",
      "Epoch 4/50\n",
      "128/128 [==============================] - 1s 7ms/step - loss: 1.4001 - accuracy: 0.5369 - val_loss: 1.2663 - val_accuracy: 0.6172 - lr: 0.0010\n",
      "Epoch 5/50\n",
      "128/128 [==============================] - 1s 8ms/step - loss: 1.1728 - accuracy: 0.6299 - val_loss: 1.0391 - val_accuracy: 0.7148 - lr: 0.0010\n",
      "Epoch 6/50\n",
      "128/128 [==============================] - 1s 8ms/step - loss: 0.9726 - accuracy: 0.7163 - val_loss: 0.8812 - val_accuracy: 0.7627 - lr: 0.0010\n",
      "Epoch 7/50\n",
      "128/128 [==============================] - 1s 8ms/step - loss: 0.8069 - accuracy: 0.7957 - val_loss: 0.7145 - val_accuracy: 0.8232 - lr: 0.0010\n",
      "Epoch 8/50\n",
      "128/128 [==============================] - 1s 7ms/step - loss: 0.6662 - accuracy: 0.8379 - val_loss: 0.5786 - val_accuracy: 0.8525 - lr: 0.0010\n",
      "Epoch 9/50\n",
      "128/128 [==============================] - 1s 8ms/step - loss: 0.5410 - accuracy: 0.8547 - val_loss: 0.4837 - val_accuracy: 0.8740 - lr: 0.0010\n",
      "Epoch 10/50\n",
      "128/128 [==============================] - 1s 8ms/step - loss: 0.4595 - accuracy: 0.8789 - val_loss: 0.4179 - val_accuracy: 0.9053 - lr: 0.0010\n",
      "Epoch 11/50\n",
      "128/128 [==============================] - 1s 8ms/step - loss: 0.4051 - accuracy: 0.8831 - val_loss: 0.3801 - val_accuracy: 0.9141 - lr: 0.0010\n",
      "Epoch 12/50\n",
      "128/128 [==============================] - 1s 8ms/step - loss: 0.3685 - accuracy: 0.8962 - val_loss: 0.3330 - val_accuracy: 0.8867 - lr: 0.0010\n",
      "Epoch 13/50\n",
      "128/128 [==============================] - 1s 7ms/step - loss: 0.3335 - accuracy: 0.9001 - val_loss: 0.2982 - val_accuracy: 0.9170 - lr: 0.0010\n",
      "Epoch 14/50\n",
      "128/128 [==============================] - 1s 8ms/step - loss: 0.3043 - accuracy: 0.9041 - val_loss: 0.2839 - val_accuracy: 0.9229 - lr: 0.0010\n",
      "Epoch 15/50\n",
      "128/128 [==============================] - 1s 7ms/step - loss: 0.2867 - accuracy: 0.9126 - val_loss: 0.2662 - val_accuracy: 0.9199 - lr: 0.0010\n",
      "Epoch 16/50\n",
      "128/128 [==============================] - 1s 8ms/step - loss: 0.2677 - accuracy: 0.9170 - val_loss: 0.2480 - val_accuracy: 0.9258 - lr: 0.0010\n",
      "Epoch 17/50\n",
      "128/128 [==============================] - 1s 8ms/step - loss: 0.2595 - accuracy: 0.9187 - val_loss: 0.2521 - val_accuracy: 0.9209 - lr: 0.0010\n",
      "Epoch 18/50\n",
      "128/128 [==============================] - 1s 8ms/step - loss: 0.2596 - accuracy: 0.9219 - val_loss: 0.2320 - val_accuracy: 0.9248 - lr: 0.0010\n",
      "Epoch 19/50\n",
      "128/128 [==============================] - 1s 8ms/step - loss: 0.2401 - accuracy: 0.9246 - val_loss: 0.2408 - val_accuracy: 0.9229 - lr: 0.0010\n",
      "Epoch 20/50\n",
      "128/128 [==============================] - 1s 7ms/step - loss: 0.2336 - accuracy: 0.9280 - val_loss: 0.2304 - val_accuracy: 0.9287 - lr: 0.0010\n",
      "Epoch 21/50\n",
      "128/128 [==============================] - 1s 7ms/step - loss: 0.2253 - accuracy: 0.9290 - val_loss: 0.2216 - val_accuracy: 0.9268 - lr: 0.0010\n",
      "Epoch 22/50\n",
      "128/128 [==============================] - 1s 8ms/step - loss: 0.2212 - accuracy: 0.9285 - val_loss: 0.2022 - val_accuracy: 0.9346 - lr: 0.0010\n",
      "Epoch 23/50\n",
      "128/128 [==============================] - 1s 7ms/step - loss: 0.2106 - accuracy: 0.9319 - val_loss: 0.2072 - val_accuracy: 0.9326 - lr: 0.0010\n",
      "Epoch 24/50\n",
      "128/128 [==============================] - 1s 7ms/step - loss: 0.1995 - accuracy: 0.9360 - val_loss: 0.1937 - val_accuracy: 0.9414 - lr: 0.0010\n",
      "Epoch 25/50\n",
      "128/128 [==============================] - 1s 7ms/step - loss: 0.1958 - accuracy: 0.9377 - val_loss: 0.1910 - val_accuracy: 0.9443 - lr: 0.0010\n",
      "Epoch 26/50\n",
      "128/128 [==============================] - 1s 8ms/step - loss: 0.1840 - accuracy: 0.9421 - val_loss: 0.1885 - val_accuracy: 0.9424 - lr: 0.0010\n",
      "Epoch 27/50\n",
      "128/128 [==============================] - 1s 7ms/step - loss: 0.1804 - accuracy: 0.9448 - val_loss: 0.1937 - val_accuracy: 0.9443 - lr: 0.0010\n",
      "Epoch 28/50\n",
      "128/128 [==============================] - 1s 7ms/step - loss: 0.1753 - accuracy: 0.9446 - val_loss: 0.1760 - val_accuracy: 0.9453 - lr: 0.0010\n",
      "Epoch 29/50\n",
      "128/128 [==============================] - 1s 8ms/step - loss: 0.1704 - accuracy: 0.9453 - val_loss: 0.1668 - val_accuracy: 0.9463 - lr: 0.0010\n",
      "Epoch 30/50\n",
      "128/128 [==============================] - 1s 8ms/step - loss: 0.1634 - accuracy: 0.9514 - val_loss: 0.1923 - val_accuracy: 0.9463 - lr: 0.0010\n",
      "Epoch 31/50\n",
      "128/128 [==============================] - 1s 8ms/step - loss: 0.1562 - accuracy: 0.9529 - val_loss: 0.1511 - val_accuracy: 0.9512 - lr: 0.0010\n",
      "Epoch 32/50\n",
      "128/128 [==============================] - 1s 7ms/step - loss: 0.1407 - accuracy: 0.9600 - val_loss: 0.1428 - val_accuracy: 0.9541 - lr: 0.0010\n",
      "Epoch 33/50\n",
      "128/128 [==============================] - 1s 7ms/step - loss: 0.1391 - accuracy: 0.9600 - val_loss: 0.1318 - val_accuracy: 0.9600 - lr: 0.0010\n",
      "Epoch 34/50\n",
      "128/128 [==============================] - 1s 7ms/step - loss: 0.1362 - accuracy: 0.9614 - val_loss: 0.1320 - val_accuracy: 0.9590 - lr: 0.0010\n",
      "Epoch 35/50\n",
      "128/128 [==============================] - 1s 8ms/step - loss: 0.1229 - accuracy: 0.9656 - val_loss: 0.1304 - val_accuracy: 0.9619 - lr: 0.0010\n",
      "Epoch 36/50\n",
      "128/128 [==============================] - 1s 8ms/step - loss: 0.1132 - accuracy: 0.9683 - val_loss: 0.1149 - val_accuracy: 0.9668 - lr: 0.0010\n",
      "Epoch 37/50\n",
      "128/128 [==============================] - 1s 9ms/step - loss: 0.1102 - accuracy: 0.9702 - val_loss: 0.1018 - val_accuracy: 0.9727 - lr: 0.0010\n",
      "Epoch 38/50\n",
      "128/128 [==============================] - 1s 8ms/step - loss: 0.1026 - accuracy: 0.9722 - val_loss: 0.1061 - val_accuracy: 0.9717 - lr: 0.0010\n",
      "Epoch 39/50\n",
      "128/128 [==============================] - 1s 8ms/step - loss: 0.0963 - accuracy: 0.9753 - val_loss: 0.0981 - val_accuracy: 0.9736 - lr: 0.0010\n",
      "Epoch 40/50\n",
      "128/128 [==============================] - 1s 8ms/step - loss: 0.0953 - accuracy: 0.9768 - val_loss: 0.1061 - val_accuracy: 0.9717 - lr: 0.0010\n",
      "Epoch 41/50\n",
      "128/128 [==============================] - 1s 8ms/step - loss: 0.1004 - accuracy: 0.9724 - val_loss: 0.1042 - val_accuracy: 0.9746 - lr: 0.0010\n",
      "Epoch 42/50\n",
      "128/128 [==============================] - 1s 8ms/step - loss: 0.0810 - accuracy: 0.9795 - val_loss: 0.0877 - val_accuracy: 0.9814 - lr: 2.0000e-04\n",
      "Epoch 43/50\n",
      "128/128 [==============================] - 1s 8ms/step - loss: 0.0760 - accuracy: 0.9829 - val_loss: 0.0916 - val_accuracy: 0.9805 - lr: 2.0000e-04\n",
      "Epoch 44/50\n",
      "128/128 [==============================] - 1s 8ms/step - loss: 0.0762 - accuracy: 0.9817 - val_loss: 0.0871 - val_accuracy: 0.9795 - lr: 2.0000e-04\n",
      "Epoch 45/50\n",
      "128/128 [==============================] - 1s 6ms/step - loss: 0.0744 - accuracy: 0.9814 - val_loss: 0.0830 - val_accuracy: 0.9785 - lr: 2.0000e-04\n",
      "Epoch 46/50\n",
      "128/128 [==============================] - 1s 7ms/step - loss: 0.0735 - accuracy: 0.9819 - val_loss: 0.0825 - val_accuracy: 0.9795 - lr: 2.0000e-04\n",
      "Epoch 47/50\n",
      "128/128 [==============================] - 1s 8ms/step - loss: 0.0731 - accuracy: 0.9810 - val_loss: 0.0810 - val_accuracy: 0.9805 - lr: 2.0000e-04\n",
      "Epoch 48/50\n",
      "128/128 [==============================] - 1s 7ms/step - loss: 0.0727 - accuracy: 0.9829 - val_loss: 0.0811 - val_accuracy: 0.9795 - lr: 2.0000e-04\n",
      "Epoch 49/50\n",
      "128/128 [==============================] - 1s 7ms/step - loss: 0.0700 - accuracy: 0.9822 - val_loss: 0.0827 - val_accuracy: 0.9805 - lr: 2.0000e-04\n",
      "Epoch 50/50\n",
      "128/128 [==============================] - 1s 7ms/step - loss: 0.0694 - accuracy: 0.9822 - val_loss: 0.0806 - val_accuracy: 0.9805 - lr: 1.0000e-04\n"
     ]
    }
   ],
   "source": [
    "# Train the model\n",
    "train_start = process_time()\n",
    "history = model.fit(\n",
    "    X_train,\n",
    "    y_train,\n",
    "    epochs=50,\n",
    "    batch_size=32,\n",
    "    validation_data=(X_test, y_test),\n",
    "    verbose=1,\n",
    "    callbacks=[reduce_lr, stop_early]\n",
    ")\n",
    "train_end = process_time()"
   ]
  },
  {
   "cell_type": "code",
   "execution_count": 7,
   "id": "16ac8e38",
   "metadata": {},
   "outputs": [
    {
     "data": {
      "text/plain": [
       "132.874585065"
      ]
     },
     "execution_count": 7,
     "metadata": {},
     "output_type": "execute_result"
    }
   ],
   "source": [
    "train_end"
   ]
  },
  {
   "cell_type": "code",
   "execution_count": 8,
   "id": "a0526a6f-a7d5-41ae-a4c1-f5f290f8ba98",
   "metadata": {
    "tags": []
   },
   "outputs": [
    {
     "name": "stdout",
     "output_type": "stream",
     "text": [
      "Model: \"sequential\"\n",
      "_________________________________________________________________\n",
      " Layer (type)                Output Shape              Param #   \n",
      "=================================================================\n",
      " lstm (LSTM)                 (None, 8)                 352       \n",
      "                                                                 \n",
      " dense (Dense)               (None, 8)                 72        \n",
      "                                                                 \n",
      " dense_1 (Dense)             (None, 16)                144       \n",
      "                                                                 \n",
      "=================================================================\n",
      "Total params: 568\n",
      "Trainable params: 568\n",
      "Non-trainable params: 0\n",
      "_________________________________________________________________\n"
     ]
    }
   ],
   "source": [
    "model.summary()"
   ]
  },
  {
   "cell_type": "code",
   "execution_count": 9,
   "id": "65f4bc20-9790-48b0-a76d-1577906d43cb",
   "metadata": {
    "tags": []
   },
   "outputs": [
    {
     "data": {
      "text/plain": [
       "[<matplotlib.lines.Line2D at 0x7f51ec573a10>]"
      ]
     },
     "execution_count": 9,
     "metadata": {},
     "output_type": "execute_result"
    },
    {
     "data": {
      "image/png": "[encoded data removed]",
      "text/plain": [
       "<Figure size 1500x700 with 1 Axes>"
      ]
     },
     "metadata": {},
     "output_type": "display_data"
    }
   ],
   "source": [
    "loss = history.history['loss']\n",
    "val_loss = history.history['val_loss']\n",
    "accuracy = history.history['accuracy']\n",
    "val_accuracy = history.history['val_accuracy']\n",
    "\n",
    "fig = plt.figure(figsize=(15, 7))\n",
    "ax = plt.gca()\n",
    "\n",
    "ax.set_xlabel('Epoch')\n",
    "ax.set_ylabel('Accuracy (Line), Loss (Dashes)')\n",
    "\n",
    "ax.axhline(1, color='gray')\n",
    "\n",
    "plt.plot(accuracy, color='blue')\n",
    "plt.plot(val_accuracy, color='orange')\n",
    "plt.plot(loss, '--', color='blue', alpha=0.5)\n",
    "plt.plot(val_loss, '--', color='orange', alpha=0.5)"
   ]
  },
  {
   "attachments": {},
   "cell_type": "markdown",
   "id": "3a38a517",
   "metadata": {},
   "source": [
    "## Testing the model with dataset/test_set\n",
    "\n",
    "The test_set is a subset of xml_logs (specifically xml_logs/s01/slow) and consists of ten gestures from each class.\n",
    "\n",
    "This subset was excluded from training."
   ]
  },
  {
   "cell_type": "code",
   "execution_count": 10,
   "id": "07830979",
   "metadata": {},
   "outputs": [],
   "source": [
    "test_data = []\n",
    "\n",
    "for root, subdirs, files in os.walk('../dataset/test_set'):\n",
    "    if 'ipynb_checkpoint' in root:\n",
    "        continue\n",
    "    \n",
    "    if len(files) > 0:\n",
    "        for f in files:\n",
    "            if '.xml' in f:\n",
    "                fname = f.split('.')[0]\n",
    "                label = fname[:-2]\n",
    "                \n",
    "                xml_root = ET.parse(f'{root}/{f}').getroot()\n",
    "                \n",
    "                points = []\n",
    "                for element in xml_root.findall('Point'):\n",
    "                    x = element.get('X')\n",
    "                    y = element.get('Y')\n",
    "                    points.append([x, y])\n",
    "                    \n",
    "                points = np.array(points, dtype=float)\n",
    "                \n",
    "                scaler = StandardScaler()\n",
    "                points = scaler.fit_transform(points)\n",
    "                \n",
    "                resampled = resample(points, NUM_POINTS)\n",
    "                \n",
    "                test_data.append((label, resampled))"
   ]
  },
  {
   "cell_type": "code",
   "execution_count": 11,
   "id": "e6e5af8c",
   "metadata": {},
   "outputs": [
    {
     "name": "stdout",
     "output_type": "stream",
     "text": [
      "{'x', 'question_mark', 'triangle', 'left_curly_brace', 'caret', 'arrow', 'rectangle', 'right_curly_brace', 'delete_mark', 'left_sq_bracket', 'pigtail', 'star', 'right_sq_bracket', 'v', 'circle', 'check'}\n",
      "{0, 1, 2, 3, 4, 5, 6, 7, 8, 9, 10, 11, 12, 13, 14, 15}\n",
      "16\n"
     ]
    }
   ],
   "source": [
    "# Prepare the data\n",
    "test_labels = [sample[0] for sample in test_data]\n",
    "\n",
    "print(set(test_labels))\n",
    "\n",
    "encoder = LabelEncoder()\n",
    "test_labels_encoded = encoder.fit_transform(test_labels)\n",
    "\n",
    "print(set(test_labels_encoded))\n",
    "\n",
    "y_test = to_categorical(test_labels_encoded)\n",
    "\n",
    "print(len(y_test[0]))\n",
    "\n",
    "sequences = [sample[1] for sample in test_data]\n",
    "X_test = np.array(sequences)"
   ]
  },
  {
   "cell_type": "code",
   "execution_count": 12,
   "id": "fb524fc7",
   "metadata": {},
   "outputs": [
    {
     "name": "stdout",
     "output_type": "stream",
     "text": [
      "5/5 [==============================] - 0s 3ms/step\n"
     ]
    },
    {
     "data": {
      "image/png": "[encoded data removed]",
      "text/plain": [
       "<Figure size 1000x1000 with 2 Axes>"
      ]
     },
     "metadata": {},
     "output_type": "display_data"
    }
   ],
   "source": [
    "# let the model make predictions for our training data\n",
    "y_predictions = model.predict(X_test)\n",
    "\n",
    "# to build a confusion matrix, we have to convert it to classifications\n",
    "# this can be done by using the argmax() function to set the probability to 1 and the rest to 0\n",
    "y_predictions = np.argmax(y_predictions, axis=1)\n",
    "\n",
    "y_test_labels = np.argmax(y_test, axis=1)\n",
    "\n",
    "# create and plot confusion matrix\n",
    "conf_matrix = confusion_matrix(y_test_labels, y_predictions)\n",
    "\n",
    "fig = plt.figure(figsize=(10, 10))\n",
    "\n",
    "ConfusionMatrixDisplay(conf_matrix, display_labels=set(labels)).plot(ax=plt.gca())\n",
    "\n",
    "plt.xticks(rotation=90, ha='center')\n",
    "pass"
   ]
  },
  {
   "cell_type": "code",
   "execution_count": 13,
   "id": "9f605059",
   "metadata": {},
   "outputs": [],
   "source": [
    "single_sample = np.reshape(X_test[0], (1,NUM_POINTS,2))"
   ]
  },
  {
   "cell_type": "code",
   "execution_count": 14,
   "id": "42d6e5aa",
   "metadata": {},
   "outputs": [
    {
     "name": "stdout",
     "output_type": "stream",
     "text": [
      "1/1 [==============================] - 0s 255ms/step\n",
      "1/1 [==============================] - 0s 13ms/step\n",
      "1/1 [==============================] - 0s 13ms/step\n",
      "1/1 [==============================] - 0s 13ms/step\n",
      "1/1 [==============================] - 0s 14ms/step\n",
      "1/1 [==============================] - 0s 13ms/step\n",
      "1/1 [==============================] - 0s 13ms/step\n",
      "1/1 [==============================] - 0s 15ms/step\n",
      "34 ms ± 992 µs per loop (mean ± std. dev. of 7 runs, 1 loop each)\n"
     ]
    }
   ],
   "source": [
    "%%timeit\n",
    "single_prediction = model.predict(single_sample)"
   ]
  },
  {
   "cell_type": "code",
   "execution_count": 15,
   "id": "c2705cd3",
   "metadata": {},
   "outputs": [
    {
     "name": "stdout",
     "output_type": "stream",
     "text": [
      "1/1 [==============================] - 0s 13ms/step\n",
      "Label:      pigtail\n",
      "Prediction: pigtail\n"
     ]
    },
    {
     "data": {
      "image/png": "[encoded data removed]",
      "text/plain": [
       "<Figure size 640x480 with 1 Axes>"
      ]
     },
     "metadata": {},
     "output_type": "display_data"
    }
   ],
   "source": [
    "# lets test the model in action\n",
    "\n",
    "test_data_new = random.sample(test_data, 1)[0]\n",
    "\n",
    "label = test_data_new[0]\n",
    "sequence = test_data_new[1]\n",
    "sequence\n",
    "\n",
    "plt.plot(sequence.T[0], sequence.T[1]*-1)\n",
    "\n",
    "prediction = model.predict(np.array([sequence]))\n",
    "prediction = np.argmax(prediction)\n",
    "\n",
    "prediction_label = encoder.inverse_transform(np.array([prediction]))[0]\n",
    "\n",
    "print('Label:     ', label)\n",
    "print('Prediction:', prediction_label)"
   ]
  },
  {
   "cell_type": "code",
   "execution_count": 16,
   "id": "2acb546f",
   "metadata": {},
   "outputs": [],
   "source": [
    "from recognizer import Recognizer"
   ]
  },
  {
   "cell_type": "code",
   "execution_count": 17,
   "id": "f8eedb27",
   "metadata": {},
   "outputs": [],
   "source": [
    "recognizer = Recognizer()\n",
    "test_set = []"
   ]
  },
  {
   "cell_type": "code",
   "execution_count": 19,
   "id": "82047837",
   "metadata": {},
   "outputs": [],
   "source": [
    "for root, subdirs, files in os.walk('../dataset/test_set'):\n",
    "    if len(files) > 0:\n",
    "        for f in files:\n",
    "            if '.xml' in f:\n",
    "                fname = f.split('.')[0]\n",
    "                label = fname[:-2]\n",
    "\n",
    "                xml_root = ET.parse(f'{root}/{f}').getroot()\n",
    "\n",
    "                points = []\n",
    "                for element in xml_root.findall('Point'):\n",
    "                    x = element.get('X')\n",
    "                    y = element.get('Y')\n",
    "                    points.append([x, y])\n",
    "\n",
    "                points = np.array(points, dtype=float)\n",
    "\n",
    "                test_set.append((label, points))"
   ]
  },
  {
   "cell_type": "code",
   "execution_count": 20,
   "id": "6b8e9cc9",
   "metadata": {},
   "outputs": [],
   "source": [
    "counter = 0\n",
    "for xml in test_set:\n",
    "    result = recognizer.recognize(xml[1])\n",
    "    ground_truth = xml[0]\n",
    "    prediction = result\n",
    "    if ground_truth == prediction:\n",
    "        counter += 1"
   ]
  },
  {
   "cell_type": "code",
   "execution_count": 21,
   "id": "072cc213",
   "metadata": {},
   "outputs": [
    {
     "name": "stdout",
     "output_type": "stream",
     "text": [
      "0.90625 predictions correct\n"
     ]
    }
   ],
   "source": [
    "print(f'{counter/len(test_set)} predictions correct')"
   ]
  },
  {
   "cell_type": "code",
   "execution_count": 27,
   "id": "9f6b5e42",
   "metadata": {},
   "outputs": [
    {
     "name": "stdout",
     "output_type": "stream",
     "text": [
      "13.6 ms ± 37.4 µs per loop (mean ± std. dev. of 7 runs, 100 loops each)\n"
     ]
    }
   ],
   "source": [
    "%%timeit\n",
    "recognizer.recognize(test_set[0][1])"
   ]
  },
  {
   "attachments": {},
   "cell_type": "markdown",
   "id": "fa4e4d39",
   "metadata": {},
   "source": [
    "## "
   ]
  },
  {
   "attachments": {},
   "cell_type": "markdown",
   "id": "691242c2",
   "metadata": {},
   "source": [
    "## Model performance dependancy on parameter count\n",
    "\n",
    "The parameter count was gradually decreased by tweaking the amount of nodes in the LSTM and Dense layer.\n",
    "\n",
    "The accuracy and prediction times for different settings were logged to raw_data.csv\n",
    "\n",
    "## Disclaimer\n",
    "\n",
    "The training was caped to 50 epochs, but this limit was rarely reached. This means models with fewer trainable parameters might not have reached their full potential regarding accuracy.\n",
    "\n",
    "The implementation of the 1$ recognizer is bugged, which means the real accuracy is expected to be different.\n",
    "\n",
    "## Summary\n",
    "\n",
    "<u>Version 1:</u>\n",
    "\n",
    "LSTM (64 nodes), Dense (32 nodes):\n",
    "\n",
    "Number of trainable parameters:\n",
    "\n",
    "19,760\n",
    "\n",
    "Mean accuracy over 10 training session:\n",
    "\n",
    "Acc: 0.99753, Val_Acc: 0.99423\n",
    "\n",
    "Mean prediction time over 70 predictions:\n",
    "\n",
    "35.3 ms\n",
    "\n",
    "<u>Version 2:</u>\n",
    "\n",
    "LSTM (32 nodes), Dense (16 nodes):\n",
    "\n",
    "Number of trainable parameters:\n",
    "\n",
    "5,280\n",
    "\n",
    "Mean accuracy over 10 training session:\n",
    "\n",
    "Acc: 0.99573, Val_Acc: 0.99267\t\n",
    "\n",
    "Mean prediction time over 70 predictions:\n",
    "\n",
    "35.1 ms\n",
    "\n",
    "<u>Version 3:</u>\n",
    "\n",
    "LSTM (16 nodes), Dense (16 nodes):\n",
    "\n",
    "Number of trainable parameters:\n",
    "\n",
    "1,760\n",
    "\n",
    "Mean accuracy over 10 training session:\n",
    "\n",
    "Acc: 0.98976, Val_Acc: 0.98780\t\n",
    "\n",
    "Mean prediction time over 70 predictions:\n",
    "\n",
    "35.1 ms\n",
    "\n",
    "<u>Version 4:</u>\n",
    "\n",
    "LSTM (8 nodes), Dense (16 nodes):\n",
    "\n",
    "Number of trainable parameters:\n",
    "\n",
    "768\n",
    "\n",
    "Mean accuracy over 10 training session:\n",
    "\n",
    "Acc: 0.98399, Val_Acc: 0.98165\t\n",
    "\n",
    "Mean prediction time over 70 predictions:\n",
    "\n",
    "35.1 ms\n",
    "\n",
    "<u>Version 5:</u>\n",
    "\n",
    "LSTM (8 nodes), Dense (8 nodes):\n",
    "\n",
    "Number of trainable parameters:\n",
    "\n",
    "568\n",
    "\n",
    "Mean accuracy over 10 training session:\n",
    "\n",
    "Acc: 0.98308, Val_Acc: 0.97764\n",
    "\n",
    "Mean prediction time over 70 predictions:\n",
    "\n",
    "35.1 ms\n",
    "\n",
    "<u>Version 5:</u>\n",
    "\n",
    "1$ recognizer\n",
    "\n",
    "Accuracy:\n",
    "\n",
    "0.90625\n",
    "\n",
    "Mean prediction time over 700 predictions:\n",
    "\n",
    "13.6 ms\n",
    "\n",
    "## Findings\n",
    "\n",
    "Decreasing the number of trainable parameters doesn't seem to affect the models accuracy and prediction time. It increases the number of epochs and overall training time needed.\n",
    "\n",
    "The one dollar recognizer performs worse accuracy wise, but prediction times seem to be faster.\n",
    "\n",
    "Based on these findings the recommended method is dependend on the type of real life application. Application which don't heavily depend on accuracy should use the one dollar recognizer. In applications, where the correctness of the prediction is critical, a lstm implementation seems more appropriate."
   ]
  },
  {
   "cell_type": "code",
   "execution_count": 23,
   "id": "2d46fddb",
   "metadata": {},
   "outputs": [],
   "source": [
    "import pandas as pd"
   ]
  },
  {
   "cell_type": "code",
   "execution_count": 24,
   "id": "3217edc9",
   "metadata": {},
   "outputs": [],
   "source": [
    "df = pd.read_csv('./results/raw.csv')\n",
    "df = df.drop(columns='Attempt')\n",
    "grouped = df.groupby('Label').mean()"
   ]
  },
  {
   "cell_type": "code",
   "execution_count": 25,
   "id": "a394e456",
   "metadata": {},
   "outputs": [
    {
     "data": {
      "text/html": [
       "<div>\n",
       "<style scoped>\n",
       "    .dataframe tbody tr th:only-of-type {\n",
       "        vertical-align: middle;\n",
       "    }\n",
       "\n",
       "    .dataframe tbody tr th {\n",
       "        vertical-align: top;\n",
       "    }\n",
       "\n",
       "    .dataframe thead th {\n",
       "        text-align: right;\n",
       "    }\n",
       "</style>\n",
       "<table border=\"1\" class=\"dataframe\">\n",
       "  <thead>\n",
       "    <tr style=\"text-align: right;\">\n",
       "      <th></th>\n",
       "      <th>Accuracy</th>\n",
       "      <th>Val_accuracy</th>\n",
       "      <th>Time (s)</th>\n",
       "    </tr>\n",
       "    <tr>\n",
       "      <th>Label</th>\n",
       "      <th></th>\n",
       "      <th></th>\n",
       "      <th></th>\n",
       "    </tr>\n",
       "  </thead>\n",
       "  <tbody>\n",
       "    <tr>\n",
       "      <th>(16/16)</th>\n",
       "      <td>0.98976</td>\n",
       "      <td>0.98780</td>\n",
       "      <td>55.319</td>\n",
       "    </tr>\n",
       "    <tr>\n",
       "      <th>(32/16)</th>\n",
       "      <td>0.99573</td>\n",
       "      <td>0.99267</td>\n",
       "      <td>58.743</td>\n",
       "    </tr>\n",
       "    <tr>\n",
       "      <th>(64/32)</th>\n",
       "      <td>0.99753</td>\n",
       "      <td>0.99423</td>\n",
       "      <td>74.250</td>\n",
       "    </tr>\n",
       "    <tr>\n",
       "      <th>(8/16)</th>\n",
       "      <td>0.98399</td>\n",
       "      <td>0.98165</td>\n",
       "      <td>111.319</td>\n",
       "    </tr>\n",
       "    <tr>\n",
       "      <th>(8/8)</th>\n",
       "      <td>0.98308</td>\n",
       "      <td>0.97764</td>\n",
       "      <td>120.844</td>\n",
       "    </tr>\n",
       "  </tbody>\n",
       "</table>\n",
       "</div>"
      ],
      "text/plain": [
       "         Accuracy  Val_accuracy  Time (s)\n",
       "Label                                    \n",
       "(16/16)   0.98976       0.98780    55.319\n",
       "(32/16)   0.99573       0.99267    58.743\n",
       "(64/32)   0.99753       0.99423    74.250\n",
       "(8/16)    0.98399       0.98165   111.319\n",
       "(8/8)     0.98308       0.97764   120.844"
      ]
     },
     "execution_count": 25,
     "metadata": {},
     "output_type": "execute_result"
    }
   ],
   "source": [
    "grouped"
   ]
  }
 ],
 "metadata": {
  "kernelspec": {
   "display_name": "Python 3 (ipykernel)",
   "language": "python",
   "name": "python3"
  },
  "language_info": {
   "codemirror_mode": {
    "name": "ipython",
    "version": 3
   },
   "file_extension": ".py",
   "mimetype": "text/x-python",
   "name": "python",
   "nbconvert_exporter": "python",
   "pygments_lexer": "ipython3",
   "version": "3.11.3"
  }
 },
 "nbformat": 4,
 "nbformat_minor": 5
}
